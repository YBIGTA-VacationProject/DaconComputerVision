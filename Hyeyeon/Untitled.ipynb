{
 "cells": [
  {
   "cell_type": "code",
   "execution_count": null,
   "id": "celtic-banks",
   "metadata": {},
   "outputs": [],
   "source": [
    "epochs=30\n",
    "batch_size=64  \n",
    "\n",
    "optimizer = torch.optim.Adam(\n",
    "    model.parameters(), lr = 1e-3, weight_decay=1e-7)\n",
    "scheduler = torch.optim.lr_scheduler.MultiStepLR(\n",
    "    optimizer, milestones= [23,29], gamma=0.5)"
   ]
  },
  {
   "cell_type": "code",
   "execution_count": null,
   "id": "adapted-smoke",
   "metadata": {},
   "outputs": [],
   "source": [
    "epochs=30\n",
    "batch_size=64  \n",
    "\n",
    "optimizer = torch.optim.Adam(model.parameters(), \n",
    "                             lr = 1e-3, weight_decay=1e-7)\n",
    "scheduler = torch.optim.lr_scheduler.MultiStepLR(\n",
    "    optimizer, milestones= [23,29], gamma=0.5)"
   ]
  }
 ],
 "metadata": {
  "kernelspec": {
   "display_name": "Python 3",
   "language": "python",
   "name": "python3"
  },
  "language_info": {
   "codemirror_mode": {
    "name": "ipython",
    "version": 3
   },
   "file_extension": ".py",
   "mimetype": "text/x-python",
   "name": "python",
   "nbconvert_exporter": "python",
   "pygments_lexer": "ipython3",
   "version": "3.7.2"
  }
 },
 "nbformat": 4,
 "nbformat_minor": 5
}
