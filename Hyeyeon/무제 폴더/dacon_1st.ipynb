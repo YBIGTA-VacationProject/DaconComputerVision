{
  "nbformat": 4,
  "nbformat_minor": 5,
  "metadata": {
    "kernelspec": {
      "display_name": "torch_env",
      "language": "python",
      "name": "torch_env"
    },
    "language_info": {
      "codemirror_mode": {
        "name": "ipython",
        "version": 3
      },
      "file_extension": ".py",
      "mimetype": "text/x-python",
      "name": "python",
      "nbconvert_exporter": "python",
      "pygments_lexer": "ipython3",
      "version": "3.8.5"
    },
    "colab": {
      "name": "dacon baseline test.ipynb",
      "provenance": [],
      "collapsed_sections": []
    },
    "accelerator": "GPU"
  },
  "cells": [
    {
      "cell_type": "code",
      "metadata": {
        "colab": {
          "base_uri": "https://localhost:8080/"
        },
        "id": "Cbx6J8ZNZK_N",
        "outputId": "4455a4c8-2e04-451d-9d89-f5ca82de67fb"
      },
      "source": [
        "from google.colab import drive\n",
        "drive.mount('/content/drive')"
      ],
      "id": "Cbx6J8ZNZK_N",
      "execution_count": null,
      "outputs": [
        {
          "output_type": "stream",
          "text": [
            "Drive already mounted at /content/drive; to attempt to forcibly remount, call drive.mount(\"/content/drive\", force_remount=True).\n"
          ],
          "name": "stdout"
        }
      ]
    },
    {
      "cell_type": "markdown",
      "metadata": {
        "id": "manual-amsterdam"
      },
      "source": [
        "2. Library Import"
      ],
      "id": "manual-amsterdam"
    },
    {
      "cell_type": "code",
      "metadata": {
        "id": "OHXGVUXxUSy9",
        "colab": {
          "base_uri": "https://localhost:8080/"
        },
        "outputId": "b5b99ad8-eaad-4338-f57f-22d76da852e0"
      },
      "source": [
        "from google.colab import output\n",
        "# !cp 파일1 파일2 # 파일1을 파일2로 복사 붙여넣기\n",
        "!cp -r \"/content/drive/MyDrive/21-1/data\" \"data\"\n",
        "# data_2.zip을 현재 디렉터리에 압축해제\n",
        "#!unzip \"data_2.zip\""
      ],
      "id": "OHXGVUXxUSy9",
      "execution_count": null,
      "outputs": [
        {
          "output_type": "stream",
          "text": [
            "^C\n"
          ],
          "name": "stdout"
        }
      ]
    },
    {
      "cell_type": "code",
      "metadata": {
        "id": "-oUPZnYRgtF1"
      },
      "source": [
        "import os\n",
        "os.chdir('/content/data')"
      ],
      "id": "-oUPZnYRgtF1",
      "execution_count": null,
      "outputs": []
    },
    {
      "cell_type": "code",
      "metadata": {
        "colab": {
          "base_uri": "https://localhost:8080/"
        },
        "id": "_14q9Rd1g2ZK",
        "outputId": "20eb3a0d-7289-4d3a-81cf-074faeba3576"
      },
      "source": [
        "ls"
      ],
      "id": "_14q9Rd1g2ZK",
      "execution_count": null,
      "outputs": [
        {
          "output_type": "stream",
          "text": [
            "dirty_mnist_2nd_answer.csv  mnist_data.zip             \u001b[0m\u001b[01;34mtest_dirty_mnist_2nd\u001b[0m/\n",
            "dirty_mnist_2nd.zip         \u001b[01;34moriginal_dirty_mnist_2nd\u001b[0m/  test_dirty_mnist_2nd.zip\n",
            "\u001b[01;34mmnist_data\u001b[0m/                 sample_submission.csv\n"
          ],
          "name": "stdout"
        }
      ]
    },
    {
      "cell_type": "code",
      "metadata": {
        "id": "1zkzba8ebrHn"
      },
      "source": [
        "from google.colab import output\n",
        "# 현재 디렉터리에 dirty_mnist라는 폴더 생성\n",
        "!mkdir \"./dirty_mnist_2nd\"\n",
        "#dirty_mnist.zip라는 zip파일을 dirty_mnist라는 폴더에 압축 풀기\n",
        "!unzip \"dirty_mnist_2nd.zip\" -d \"./dirty_mnist_2nd/\"\n",
        "# 현재 디렉터리에 test_dirty_mnist라는 폴더 생성\n",
        "!mkdir \"./test_dirty_mnist_2nd\"\n",
        "#test_dirty_mnist.zip라는 zip파일을 test_dirty_mnist라는 폴더에 압축 풀기\n",
        "!unzip \"test_dirty_mnist_2nd.zip\" -d \"./test_dirty_mnist_2nd/\"\n",
        "# 출력 결과 지우기\n",
        "output.clear()"
      ],
      "id": "1zkzba8ebrHn",
      "execution_count": null,
      "outputs": []
    },
    {
      "cell_type": "code",
      "metadata": {
        "id": "absent-genesis"
      },
      "source": [
        "import pandas as pd\n",
        "import numpy as np\n",
        "import matplotlib.pyplot as plt\n",
        "import cv2\n",
        "from tqdm import tqdm\n",
        "import imutils\n",
        "import zipfile\n",
        "import os\n",
        "from PIL import Image\n",
        "\n",
        "import torch\n",
        "import torch.nn as nn\n",
        "import torch.nn.functional as F\n",
        "import torchvision.models as models\n",
        "import torchvision.transforms as T\n",
        "from torch.utils.data import DataLoader, Dataset\n",
        "\n",
        "device = torch.device(\"cuda:0\" if torch.cuda.is_available() else \"cpu\") # 디바이스 설정"
      ],
      "id": "absent-genesis",
      "execution_count": null,
      "outputs": []
    },
    {
      "cell_type": "markdown",
      "metadata": {
        "id": "frequent-apparatus"
      },
      "source": [
        "3. Dataset 구성"
      ],
      "id": "frequent-apparatus"
    },
    {
      "cell_type": "code",
      "metadata": {
        "id": "ipvVWH2WigAt"
      },
      "source": [
        "ls"
      ],
      "id": "ipvVWH2WigAt",
      "execution_count": null,
      "outputs": []
    },
    {
      "cell_type": "code",
      "metadata": {
        "id": "smoking-steps"
      },
      "source": [
        "dirty_mnist_answer = pd.read_csv(\"dirty_mnist_2nd_answer.csv\")\n",
        "# dirty_mnist라는 디렉터리 속에 들어있는 파일들의 이름을 \n",
        "# namelist라는 변수에 저장\n",
        "namelist = os.listdir('./dirty_mnist_2nd/')\n",
        "\n",
        "# unmpy를 tensor로 변환하는 ToTensor 정의\n",
        "class ToTensor(object):\n",
        "    \"\"\"numpy array를 tensor(torch)로 변환합니다.\"\"\"\n",
        "    def __call__(self, sample):\n",
        "        image, label = sample['image'], sample['label']\n",
        "        # swap color axis because\n",
        "        # numpy image: H x W x C\n",
        "        # torch image: C X H X W\n",
        "        image = image.transpose((2, 0, 1))\n",
        "        return {'image': torch.FloatTensor(image),\n",
        "                'label': torch.FloatTensor(label)}\n",
        "# to_tensor 선언\n",
        "to_tensor = T.Compose([\n",
        "                        ToTensor()\n",
        "                    ])\n",
        "\n",
        "class DatasetMNIST(torch.utils.data.Dataset):\n",
        "    def __init__(self,\n",
        "                 dir_path,\n",
        "                 meta_df,\n",
        "                 transforms=to_tensor,#미리 선언한 to_tensor를 transforms로 받음\n",
        "                 augmentations=None):\n",
        "        \n",
        "        self.dir_path = dir_path # 데이터의 이미지가 저장된 디렉터리 경로\n",
        "        self.meta_df = meta_df # 데이터의 인덱스와 정답지가 들어있는 DataFrame\n",
        "\n",
        "        self.transforms = transforms# Transform\n",
        "        self.augmentations = augmentations # Augmentation\n",
        "        \n",
        "    def __len__(self):\n",
        "        return len(self.meta_df)\n",
        "    \n",
        "    def __getitem__(self, index):\n",
        "        # 폴더 경로 + 이미지 이름 + .png => 파일의 경로\n",
        "        # 참고) \"12\".zfill(5) => 000012\n",
        "        #       \"146\".zfill(5) => 000145\n",
        "        # cv2.IMREAD_GRAYSCALE : png파일을 채널이 1개인 GRAYSCALE로 읽음\n",
        "        \n",
        "        image = cv2.imread(self.dir_path +\\\n",
        "                           str(self.meta_df.iloc[index,0]).zfill(5) + '.png',\n",
        "                           cv2.IMREAD_GRAYSCALE)\n",
        "\n",
        "        # 0 ~ 255의 값을 갖고 크기가 (256,256)인 numpy array를\n",
        "        # 0 ~ 1 사이의 실수를 갖고 크기가 (256,256,1)인 numpy array로 변환\n",
        "        image = (image/255).astype('float')[..., np.newaxis]\n",
        "\n",
        "        # 정답 numpy array생성(존재하면 1 없으면 0)\n",
        "        label = self.meta_df.iloc[index, 1:].values.astype('float')\n",
        "        sample = {'image': image, 'label': label}\n",
        "\n",
        "        # transform 적용\n",
        "        # numpy to tensor\n",
        "        if self.transforms:\n",
        "            sample = self.transforms(sample)\n",
        "\n",
        "        # sample 반환\n",
        "        return sample"
      ],
      "id": "smoking-steps",
      "execution_count": null,
      "outputs": []
    },
    {
      "cell_type": "markdown",
      "metadata": {
        "id": "first-spirit"
      },
      "source": [
        "4. 학습 모델 구성"
      ],
      "id": "first-spirit"
    },
    {
      "cell_type": "code",
      "metadata": {
        "scrolled": true,
        "id": "appreciated-interest"
      },
      "source": [
        "# nn.Module을 상속 받아 MultiLabelResnet를 정의\n",
        "class MultiLabelResnet(nn.Module):\n",
        "    def __init__(self):\n",
        "        super(MultiLabelResnet, self).__init__()\n",
        "        self.conv2d = nn.Conv2d(1, 3, 3, stride=1)\n",
        "        self.resnet = models.resnet18() \n",
        "        self.FC = nn.Linear(1000, 26)\n",
        "\n",
        "    def forward(self, x):\n",
        "        # resnet의 입력은 [3, N, N]으로\n",
        "        # 3개의 채널을 갖기 때문에\n",
        "        # resnet 입력 전에 conv2d를 한 층 추가\n",
        "        x = F.relu(self.conv2d(x))\n",
        "\n",
        "        # resnet18을 추가\n",
        "        x = F.relu(self.resnet(x))\n",
        "\n",
        "        # 마지막 출력에 nn.Linear를 추가\n",
        "        # multilabel을 예측해야 하기 때문에\n",
        "        # softmax가 아닌 sigmoid를 적용\n",
        "        x = torch.sigmoid(self.FC(x))\n",
        "        return x\n",
        "# 모델 선언\n",
        "model = MultiLabelResnet()\n",
        "model"
      ],
      "id": "appreciated-interest",
      "execution_count": null,
      "outputs": []
    },
    {
      "cell_type": "markdown",
      "metadata": {
        "id": "shaped-termination"
      },
      "source": [
        "5. 학습"
      ],
      "id": "shaped-termination"
    },
    {
      "cell_type": "code",
      "metadata": {
        "colab": {
          "base_uri": "https://localhost:8080/"
        },
        "id": "ranging-sunset",
        "outputId": "f4ef2326-5708-484c-ef91-34c637d26de8"
      },
      "source": [
        "# cross validation을 적용하기 위해 KFold 생성\n",
        "from sklearn.model_selection import KFold\n",
        "kfold = KFold(n_splits=5, shuffle=True, random_state=0)\n",
        "\n",
        "# dirty_mnist_answer에서 train_idx와 val_idx를 생성\n",
        "best_models = [] # 폴드별로 가장 validation acc가 높은 모델 저장\n",
        "for fold_index, (trn_idx, val_idx) in enumerate(kfold.split(dirty_mnist_answer),1):\n",
        "    print(f'[fold: {fold_index}]')\n",
        "    # cuda cache 초기화\n",
        "    torch.cuda.empty_cache()\n",
        "\n",
        "    #train fold, validation fold 분할\n",
        "    train_answer = dirty_mnist_answer.iloc[trn_idx]\n",
        "    test_answer  = dirty_mnist_answer.iloc[val_idx]\n",
        "\n",
        "    #Dataset 정의\n",
        "    train_dataset = DatasetMNIST(\"dirty_mnist_2nd/\", train_answer)\n",
        "    valid_dataset = DatasetMNIST(\"dirty_mnist_2nd/\", test_answer)\n",
        "\n",
        "    #DataLoader 정의\n",
        "    train_data_loader = DataLoader(\n",
        "        train_dataset,\n",
        "        batch_size = 128,\n",
        "        shuffle = False,\n",
        "        num_workers = 3\n",
        "    )\n",
        "\n",
        "    valid_data_loader = DataLoader(\n",
        "        valid_dataset,\n",
        "        batch_size = 32,\n",
        "        shuffle = False,\n",
        "        num_workers = 3\n",
        "    )\n",
        "\n",
        "    # 모델 선언\n",
        "    model = MultiLabelResnet()\n",
        "    model.to(device)# gpu에 모델 할당\n",
        "\n",
        "    # 훈련 옵션 설정\n",
        "    optimizer = torch.optim.Adam(model.parameters(),\n",
        "                                lr = 0.001)\n",
        "    lr_scheduler = torch.optim.lr_scheduler.StepLR(optimizer,\n",
        "                                                step_size = 5,\n",
        "                                                gamma = 0.75)\n",
        "    criterion = torch.nn.BCELoss()\n",
        "\n",
        "\n",
        "    # 훈련 시작\n",
        "    valid_acc_max = 0\n",
        "    for epoch in range(10):\n",
        "        print(epoch)\n",
        "        # 1개 epoch 훈련\n",
        "        train_acc_list = []\n",
        "\n",
        "        with tqdm(train_data_loader,#train_data_loader를 iterative하게 반환\n",
        "                total=train_data_loader.__len__(), # train_data_loader의 크기\n",
        "                unit=\"batch\") as train_bar:# 한번 반환하는 smaple의 단위는 \"batch\"\n",
        "            for sample in train_bar:\n",
        "                train_bar.set_description(f\"Train Epoch {epoch}\")\n",
        "\n",
        "                # 갱신할 변수들에 대한 모든 변화도를 0으로 초기화\n",
        "                # 참고)https://tutorials.pytorch.kr/beginner/pytorch_with_examples.html\n",
        "                optimizer.zero_grad()\n",
        "                images, labels = sample['image'], sample['label']\n",
        "                # tensor를 gpu에 올리기 \n",
        "                images = images.to(device)\n",
        "                labels = labels.to(device)\n",
        "\n",
        "                # 모델의 dropoupt, batchnormalization를 train 모드로 설정\n",
        "                model.train()\n",
        "                # .forward()에서 중간 노드의 gradient를 계산\n",
        "                with torch.set_grad_enabled(True):\n",
        "                    # 모델 예측\n",
        "                    probs  = model(images)\n",
        "                    # loss 계산\n",
        "                    loss = criterion(probs, labels)\n",
        "                    # 중간 노드의 gradient로\n",
        "                    # backpropagation을 적용하여\n",
        "                    # gradient 계산\n",
        "                    loss.backward()\n",
        "                    # weight 갱신\n",
        "                    optimizer.step()\n",
        "\n",
        "                    # train accuracy 계산\n",
        "                    probs  = probs.cpu().detach().numpy()\n",
        "                    labels = labels.cpu().detach().numpy()\n",
        "                    preds = probs > 0.5\n",
        "                    batch_acc = (labels == preds).mean()\n",
        "                    train_acc_list.append(batch_acc)\n",
        "                    train_acc = np.mean(train_acc_list)\n",
        "\n",
        "                # 현재 progress bar에 현재 미니배치의 loss 결과 출력\n",
        "                train_bar.set_postfix(train_loss= loss.item(),\n",
        "                                      train_acc = train_acc)\n",
        "                \n",
        "\n",
        "        # 1개 epoch학습 후 Validation 점수 계산\n",
        "        valid_acc_list = []\n",
        "        with tqdm(valid_data_loader,\n",
        "                total=valid_data_loader.__len__(),\n",
        "                unit=\"batch\") as valid_bar:\n",
        "            for sample in valid_bar:\n",
        "                valid_bar.set_description(f\"Valid Epoch {epoch}\")\n",
        "                optimizer.zero_grad()\n",
        "                images, labels = sample['image'], sample['label']\n",
        "                images = images.to(device)\n",
        "                labels = labels.to(device)\n",
        "\n",
        "                # 모델의 dropoupt, batchnormalization를 eval모드로 설정\n",
        "                model.eval()\n",
        "                # .forward()에서 중간 노드의 gradient를 계산\n",
        "                with torch.no_grad():\n",
        "                    # validation loss만을 계산\n",
        "                    probs  = model(images)\n",
        "                    valid_loss = criterion(probs, labels)\n",
        "\n",
        "                    # train accuracy 계산\n",
        "                    probs  = probs.cpu().detach().numpy()\n",
        "                    labels = labels.cpu().detach().numpy()\n",
        "                    preds = probs > 0.5\n",
        "                    batch_acc = (labels == preds).mean()\n",
        "                    valid_acc_list.append(batch_acc)\n",
        "\n",
        "                valid_acc = np.mean(valid_acc_list)\n",
        "                valid_bar.set_postfix(valid_loss = valid_loss.item(),\n",
        "                                      valid_acc = valid_acc)\n",
        "            \n",
        "        # Learning rate 조절\n",
        "        lr_scheduler.step()\n",
        "\n",
        "        # 모델 저장\n",
        "        if valid_acc_max < valid_acc:\n",
        "            valid_acc_max = valid_acc\n",
        "            best_model = model\n",
        "            MODEL = \"resnet18\"\n",
        "            # 모델을 저장할 구글 드라이브 경로\n",
        "            path = \"/content/drive/MyDrive/21-1/models/\"\n",
        "            torch.save(best_model, f'{path}{fold_index}_{MODEL}_{valid_loss.item():2.4f}_epoch_{epoch}.pth')\n",
        "\n",
        "    # 폴드별로 가장 좋은 모델 저장\n",
        "    best_models.append(best_model)"
      ],
      "id": "ranging-sunset",
      "execution_count": null,
      "outputs": [
        {
          "output_type": "stream",
          "text": [
            "[fold: 1]\n"
          ],
          "name": "stdout"
        },
        {
          "output_type": "stream",
          "text": [
            "\r  0%|          | 0/313 [00:00<?, ?batch/s]"
          ],
          "name": "stderr"
        },
        {
          "output_type": "stream",
          "text": [
            "0\n"
          ],
          "name": "stdout"
        },
        {
          "output_type": "stream",
          "text": [
            "Train Epoch 0: 100%|██████████| 313/313 [03:06<00:00,  1.67batch/s, train_acc=0.549, train_loss=0.68]\n",
            "Valid Epoch 0: 100%|██████████| 313/313 [00:21<00:00, 14.83batch/s, valid_acc=0.546, valid_loss=0.685]\n",
            "  0%|          | 0/313 [00:00<?, ?batch/s]"
          ],
          "name": "stderr"
        },
        {
          "output_type": "stream",
          "text": [
            "1\n"
          ],
          "name": "stdout"
        },
        {
          "output_type": "stream",
          "text": [
            "Train Epoch 1: 100%|██████████| 313/313 [03:20<00:00,  1.56batch/s, train_acc=0.567, train_loss=0.67]\n",
            "Valid Epoch 1: 100%|██████████| 313/313 [00:20<00:00, 15.30batch/s, valid_acc=0.548, valid_loss=0.698]\n",
            "  0%|          | 0/313 [00:00<?, ?batch/s]"
          ],
          "name": "stderr"
        },
        {
          "output_type": "stream",
          "text": [
            "2\n"
          ],
          "name": "stdout"
        },
        {
          "output_type": "stream",
          "text": [
            "Train Epoch 2: 100%|██████████| 313/313 [03:21<00:00,  1.55batch/s, train_acc=0.579, train_loss=0.66]\n",
            "Valid Epoch 2: 100%|██████████| 313/313 [00:20<00:00, 15.11batch/s, valid_acc=0.569, valid_loss=0.671]\n",
            "  0%|          | 0/313 [00:00<?, ?batch/s]"
          ],
          "name": "stderr"
        },
        {
          "output_type": "stream",
          "text": [
            "3\n"
          ],
          "name": "stdout"
        },
        {
          "output_type": "stream",
          "text": [
            "Train Epoch 3: 100%|██████████| 313/313 [03:21<00:00,  1.55batch/s, train_acc=0.595, train_loss=0.646]\n",
            "Valid Epoch 3: 100%|██████████| 313/313 [00:20<00:00, 15.29batch/s, valid_acc=0.589, valid_loss=0.651]\n",
            "  0%|          | 0/313 [00:00<?, ?batch/s]"
          ],
          "name": "stderr"
        },
        {
          "output_type": "stream",
          "text": [
            "4\n"
          ],
          "name": "stdout"
        },
        {
          "output_type": "stream",
          "text": [
            "Train Epoch 4: 100%|██████████| 313/313 [03:22<00:00,  1.55batch/s, train_acc=0.61, train_loss=0.631]\n",
            "Valid Epoch 4: 100%|██████████| 313/313 [00:20<00:00, 15.10batch/s, valid_acc=0.594, valid_loss=0.65]\n",
            "  0%|          | 0/313 [00:00<?, ?batch/s]"
          ],
          "name": "stderr"
        },
        {
          "output_type": "stream",
          "text": [
            "5\n"
          ],
          "name": "stdout"
        },
        {
          "output_type": "stream",
          "text": [
            "Train Epoch 5: 100%|██████████| 313/313 [03:21<00:00,  1.55batch/s, train_acc=0.623, train_loss=0.619]\n",
            "Valid Epoch 5: 100%|██████████| 313/313 [00:20<00:00, 15.29batch/s, valid_acc=0.57, valid_loss=0.721]\n",
            "  0%|          | 0/313 [00:00<?, ?batch/s]"
          ],
          "name": "stderr"
        },
        {
          "output_type": "stream",
          "text": [
            "6\n"
          ],
          "name": "stdout"
        },
        {
          "output_type": "stream",
          "text": [
            "Train Epoch 6: 100%|██████████| 313/313 [03:22<00:00,  1.55batch/s, train_acc=0.639, train_loss=0.604]\n",
            "Valid Epoch 6: 100%|██████████| 313/313 [00:20<00:00, 15.21batch/s, valid_acc=0.583, valid_loss=0.695]\n",
            "  0%|          | 0/313 [00:00<?, ?batch/s]"
          ],
          "name": "stderr"
        },
        {
          "output_type": "stream",
          "text": [
            "7\n"
          ],
          "name": "stdout"
        },
        {
          "output_type": "stream",
          "text": [
            "Train Epoch 7: 100%|██████████| 313/313 [03:22<00:00,  1.55batch/s, train_acc=0.651, train_loss=0.583]\n",
            "Valid Epoch 7: 100%|██████████| 313/313 [00:20<00:00, 15.02batch/s, valid_acc=0.585, valid_loss=0.688]\n",
            "  0%|          | 0/313 [00:00<?, ?batch/s]"
          ],
          "name": "stderr"
        },
        {
          "output_type": "stream",
          "text": [
            "8\n"
          ],
          "name": "stdout"
        },
        {
          "output_type": "stream",
          "text": [
            "Train Epoch 8: 100%|██████████| 313/313 [03:21<00:00,  1.55batch/s, train_acc=0.661, train_loss=0.57]\n",
            "Valid Epoch 8: 100%|██████████| 313/313 [00:20<00:00, 15.35batch/s, valid_acc=0.577, valid_loss=0.751]\n",
            "  0%|          | 0/313 [00:00<?, ?batch/s]"
          ],
          "name": "stderr"
        },
        {
          "output_type": "stream",
          "text": [
            "9\n"
          ],
          "name": "stdout"
        },
        {
          "output_type": "stream",
          "text": [
            "Train Epoch 9: 100%|██████████| 313/313 [03:22<00:00,  1.55batch/s, train_acc=0.669, train_loss=0.552]\n",
            "Valid Epoch 9: 100%|██████████| 313/313 [00:20<00:00, 15.35batch/s, valid_acc=0.572, valid_loss=0.759]\n"
          ],
          "name": "stderr"
        },
        {
          "output_type": "stream",
          "text": [
            "[fold: 2]\n"
          ],
          "name": "stdout"
        },
        {
          "output_type": "stream",
          "text": [
            "\r  0%|          | 0/313 [00:00<?, ?batch/s]"
          ],
          "name": "stderr"
        },
        {
          "output_type": "stream",
          "text": [
            "0\n"
          ],
          "name": "stdout"
        },
        {
          "output_type": "stream",
          "text": [
            "Train Epoch 0: 100%|██████████| 313/313 [03:22<00:00,  1.55batch/s, train_acc=0.543, train_loss=0.687]\n",
            "Valid Epoch 0: 100%|██████████| 313/313 [00:20<00:00, 15.44batch/s, valid_acc=0.549, valid_loss=0.688]\n",
            "  0%|          | 0/313 [00:00<?, ?batch/s]"
          ],
          "name": "stderr"
        },
        {
          "output_type": "stream",
          "text": [
            "1\n"
          ],
          "name": "stdout"
        },
        {
          "output_type": "stream",
          "text": [
            "Train Epoch 1: 100%|██████████| 313/313 [03:22<00:00,  1.55batch/s, train_acc=0.563, train_loss=0.678]\n",
            "Valid Epoch 1: 100%|██████████| 313/313 [00:20<00:00, 15.23batch/s, valid_acc=0.547, valid_loss=0.699]\n",
            "  0%|          | 0/313 [00:00<?, ?batch/s]"
          ],
          "name": "stderr"
        },
        {
          "output_type": "stream",
          "text": [
            "2\n"
          ],
          "name": "stdout"
        },
        {
          "output_type": "stream",
          "text": [
            "Train Epoch 2: 100%|██████████| 313/313 [03:22<00:00,  1.55batch/s, train_acc=0.573, train_loss=0.666]\n",
            "Valid Epoch 2: 100%|██████████| 313/313 [00:20<00:00, 15.45batch/s, valid_acc=0.568, valid_loss=0.691]\n",
            "  0%|          | 0/313 [00:00<?, ?batch/s]"
          ],
          "name": "stderr"
        },
        {
          "output_type": "stream",
          "text": [
            "3\n"
          ],
          "name": "stdout"
        },
        {
          "output_type": "stream",
          "text": [
            "Train Epoch 3: 100%|██████████| 313/313 [03:21<00:00,  1.55batch/s, train_acc=0.584, train_loss=0.659]\n",
            "Valid Epoch 3: 100%|██████████| 313/313 [00:20<00:00, 15.58batch/s, valid_acc=0.545, valid_loss=0.684]\n",
            "  0%|          | 0/313 [00:00<?, ?batch/s]"
          ],
          "name": "stderr"
        },
        {
          "output_type": "stream",
          "text": [
            "4\n"
          ],
          "name": "stdout"
        },
        {
          "output_type": "stream",
          "text": [
            "Train Epoch 4: 100%|██████████| 313/313 [03:21<00:00,  1.55batch/s, train_acc=0.601, train_loss=0.643]\n",
            "Valid Epoch 4: 100%|██████████| 313/313 [00:20<00:00, 15.61batch/s, valid_acc=0.563, valid_loss=0.656]\n",
            "  0%|          | 0/313 [00:00<?, ?batch/s]"
          ],
          "name": "stderr"
        },
        {
          "output_type": "stream",
          "text": [
            "5\n"
          ],
          "name": "stdout"
        },
        {
          "output_type": "stream",
          "text": [
            "Train Epoch 5: 100%|██████████| 313/313 [03:21<00:00,  1.55batch/s, train_acc=0.617, train_loss=0.625]\n",
            "Valid Epoch 5: 100%|██████████| 313/313 [00:20<00:00, 15.42batch/s, valid_acc=0.566, valid_loss=0.662]\n",
            "  0%|          | 0/313 [00:00<?, ?batch/s]"
          ],
          "name": "stderr"
        },
        {
          "output_type": "stream",
          "text": [
            "6\n"
          ],
          "name": "stdout"
        },
        {
          "output_type": "stream",
          "text": [
            "Train Epoch 6: 100%|██████████| 313/313 [03:21<00:00,  1.55batch/s, train_acc=0.629, train_loss=0.61]\n",
            "Valid Epoch 6: 100%|██████████| 313/313 [00:20<00:00, 15.15batch/s, valid_acc=0.531, valid_loss=0.791]\n",
            "  0%|          | 0/313 [00:00<?, ?batch/s]"
          ],
          "name": "stderr"
        },
        {
          "output_type": "stream",
          "text": [
            "7\n"
          ],
          "name": "stdout"
        },
        {
          "output_type": "stream",
          "text": [
            "Train Epoch 7: 100%|██████████| 313/313 [03:21<00:00,  1.55batch/s, train_acc=0.638, train_loss=0.591]\n",
            "Valid Epoch 7: 100%|██████████| 313/313 [00:20<00:00, 15.32batch/s, valid_acc=0.526, valid_loss=0.879]\n",
            "  0%|          | 0/313 [00:00<?, ?batch/s]"
          ],
          "name": "stderr"
        },
        {
          "output_type": "stream",
          "text": [
            "8\n"
          ],
          "name": "stdout"
        },
        {
          "output_type": "stream",
          "text": [
            "Train Epoch 8: 100%|██████████| 313/313 [03:21<00:00,  1.55batch/s, train_acc=0.644, train_loss=0.575]\n",
            "Valid Epoch 8: 100%|██████████| 313/313 [00:20<00:00, 15.47batch/s, valid_acc=0.545, valid_loss=0.984]\n",
            "  0%|          | 0/313 [00:00<?, ?batch/s]"
          ],
          "name": "stderr"
        },
        {
          "output_type": "stream",
          "text": [
            "9\n"
          ],
          "name": "stdout"
        },
        {
          "output_type": "stream",
          "text": [
            "Train Epoch 9: 100%|██████████| 313/313 [03:21<00:00,  1.55batch/s, train_acc=0.652, train_loss=0.563]\n",
            "Valid Epoch 9: 100%|██████████| 313/313 [00:20<00:00, 15.38batch/s, valid_acc=0.579, valid_loss=0.811]\n"
          ],
          "name": "stderr"
        },
        {
          "output_type": "stream",
          "text": [
            "[fold: 3]\n"
          ],
          "name": "stdout"
        },
        {
          "output_type": "stream",
          "text": [
            "\r  0%|          | 0/313 [00:00<?, ?batch/s]"
          ],
          "name": "stderr"
        },
        {
          "output_type": "stream",
          "text": [
            "0\n"
          ],
          "name": "stdout"
        },
        {
          "output_type": "stream",
          "text": [
            "Train Epoch 0: 100%|██████████| 313/313 [03:22<00:00,  1.55batch/s, train_acc=0.546, train_loss=0.68]\n",
            "Valid Epoch 0: 100%|██████████| 313/313 [00:20<00:00, 15.35batch/s, valid_acc=0.507, valid_loss=0.766]\n",
            "  0%|          | 0/313 [00:00<?, ?batch/s]"
          ],
          "name": "stderr"
        },
        {
          "output_type": "stream",
          "text": [
            "1\n"
          ],
          "name": "stdout"
        },
        {
          "output_type": "stream",
          "text": [
            "Train Epoch 1: 100%|██████████| 313/313 [03:22<00:00,  1.55batch/s, train_acc=0.567, train_loss=0.669]\n",
            "Valid Epoch 1: 100%|██████████| 313/313 [00:20<00:00, 15.35batch/s, valid_acc=0.507, valid_loss=0.871]\n",
            "  0%|          | 0/313 [00:00<?, ?batch/s]"
          ],
          "name": "stderr"
        },
        {
          "output_type": "stream",
          "text": [
            "2\n"
          ],
          "name": "stdout"
        },
        {
          "output_type": "stream",
          "text": [
            "Train Epoch 2: 100%|██████████| 313/313 [03:22<00:00,  1.55batch/s, train_acc=0.577, train_loss=0.658]\n",
            "Valid Epoch 2: 100%|██████████| 313/313 [00:20<00:00, 15.26batch/s, valid_acc=0.551, valid_loss=0.704]\n",
            "  0%|          | 0/313 [00:00<?, ?batch/s]"
          ],
          "name": "stderr"
        },
        {
          "output_type": "stream",
          "text": [
            "3\n"
          ],
          "name": "stdout"
        },
        {
          "output_type": "stream",
          "text": [
            "Train Epoch 3: 100%|██████████| 313/313 [03:22<00:00,  1.55batch/s, train_acc=0.594, train_loss=0.646]\n",
            "Valid Epoch 3: 100%|██████████| 313/313 [00:20<00:00, 15.23batch/s, valid_acc=0.523, valid_loss=0.73]\n",
            "  0%|          | 0/313 [00:00<?, ?batch/s]"
          ],
          "name": "stderr"
        },
        {
          "output_type": "stream",
          "text": [
            "4\n"
          ],
          "name": "stdout"
        },
        {
          "output_type": "stream",
          "text": [
            "Train Epoch 4: 100%|██████████| 313/313 [03:22<00:00,  1.55batch/s, train_acc=0.61, train_loss=0.633]\n",
            "Valid Epoch 4: 100%|██████████| 313/313 [00:20<00:00, 15.20batch/s, valid_acc=0.533, valid_loss=0.75]\n",
            "  0%|          | 0/313 [00:00<?, ?batch/s]"
          ],
          "name": "stderr"
        },
        {
          "output_type": "stream",
          "text": [
            "5\n"
          ],
          "name": "stdout"
        },
        {
          "output_type": "stream",
          "text": [
            "Train Epoch 5: 100%|██████████| 313/313 [03:21<00:00,  1.55batch/s, train_acc=0.625, train_loss=0.612]\n",
            "Valid Epoch 5: 100%|██████████| 313/313 [00:20<00:00, 15.39batch/s, valid_acc=0.554, valid_loss=0.809]\n",
            "  0%|          | 0/313 [00:00<?, ?batch/s]"
          ],
          "name": "stderr"
        },
        {
          "output_type": "stream",
          "text": [
            "6\n"
          ],
          "name": "stdout"
        },
        {
          "output_type": "stream",
          "text": [
            "Train Epoch 6: 100%|██████████| 313/313 [03:21<00:00,  1.55batch/s, train_acc=0.633, train_loss=0.597]\n",
            "Valid Epoch 6: 100%|██████████| 313/313 [00:20<00:00, 15.33batch/s, valid_acc=0.574, valid_loss=0.691]\n",
            "  0%|          | 0/313 [00:00<?, ?batch/s]"
          ],
          "name": "stderr"
        },
        {
          "output_type": "stream",
          "text": [
            "7\n"
          ],
          "name": "stdout"
        },
        {
          "output_type": "stream",
          "text": [
            "Train Epoch 7: 100%|██████████| 313/313 [03:21<00:00,  1.55batch/s, train_acc=0.644, train_loss=0.577]\n",
            "Valid Epoch 7: 100%|██████████| 313/313 [00:20<00:00, 14.93batch/s, valid_acc=0.571, valid_loss=0.678]\n",
            "  0%|          | 0/313 [00:00<?, ?batch/s]"
          ],
          "name": "stderr"
        },
        {
          "output_type": "stream",
          "text": [
            "8\n"
          ],
          "name": "stdout"
        },
        {
          "output_type": "stream",
          "text": [
            "Train Epoch 8: 100%|██████████| 313/313 [03:22<00:00,  1.55batch/s, train_acc=0.656, train_loss=0.558]\n",
            "Valid Epoch 8: 100%|██████████| 313/313 [00:20<00:00, 15.07batch/s, valid_acc=0.587, valid_loss=0.721]\n",
            "  0%|          | 0/313 [00:00<?, ?batch/s]"
          ],
          "name": "stderr"
        },
        {
          "output_type": "stream",
          "text": [
            "9\n"
          ],
          "name": "stdout"
        },
        {
          "output_type": "stream",
          "text": [
            "Train Epoch 9: 100%|██████████| 313/313 [03:21<00:00,  1.55batch/s, train_acc=0.665, train_loss=0.545]\n",
            "Valid Epoch 9: 100%|██████████| 313/313 [00:20<00:00, 15.35batch/s, valid_acc=0.573, valid_loss=0.764]\n"
          ],
          "name": "stderr"
        },
        {
          "output_type": "stream",
          "text": [
            "[fold: 4]\n"
          ],
          "name": "stdout"
        },
        {
          "output_type": "stream",
          "text": [
            "\r  0%|          | 0/313 [00:00<?, ?batch/s]"
          ],
          "name": "stderr"
        },
        {
          "output_type": "stream",
          "text": [
            "0\n"
          ],
          "name": "stdout"
        },
        {
          "output_type": "stream",
          "text": [
            "Train Epoch 0: 100%|██████████| 313/313 [03:21<00:00,  1.56batch/s, train_acc=0.543, train_loss=0.686]\n",
            "Valid Epoch 0: 100%|██████████| 313/313 [00:20<00:00, 15.35batch/s, valid_acc=0.536, valid_loss=0.692]\n",
            "  0%|          | 0/313 [00:00<?, ?batch/s]"
          ],
          "name": "stderr"
        },
        {
          "output_type": "stream",
          "text": [
            "1\n"
          ],
          "name": "stdout"
        },
        {
          "output_type": "stream",
          "text": [
            "Train Epoch 1: 100%|██████████| 313/313 [03:21<00:00,  1.56batch/s, train_acc=0.561, train_loss=0.677]\n",
            "Valid Epoch 1: 100%|██████████| 313/313 [00:20<00:00, 15.36batch/s, valid_acc=0.519, valid_loss=0.819]\n",
            "  0%|          | 0/313 [00:00<?, ?batch/s]"
          ],
          "name": "stderr"
        },
        {
          "output_type": "stream",
          "text": [
            "2\n"
          ],
          "name": "stdout"
        },
        {
          "output_type": "stream",
          "text": [
            "Train Epoch 2: 100%|██████████| 313/313 [03:21<00:00,  1.56batch/s, train_acc=0.572, train_loss=0.671]\n",
            "Valid Epoch 2: 100%|██████████| 313/313 [00:20<00:00, 15.54batch/s, valid_acc=0.552, valid_loss=0.695]\n",
            "  0%|          | 0/313 [00:00<?, ?batch/s]"
          ],
          "name": "stderr"
        },
        {
          "output_type": "stream",
          "text": [
            "3\n"
          ],
          "name": "stdout"
        },
        {
          "output_type": "stream",
          "text": [
            "Train Epoch 3: 100%|██████████| 313/313 [03:21<00:00,  1.55batch/s, train_acc=0.584, train_loss=0.654]\n",
            "Valid Epoch 3: 100%|██████████| 313/313 [00:20<00:00, 15.42batch/s, valid_acc=0.541, valid_loss=0.701]\n",
            "  0%|          | 0/313 [00:00<?, ?batch/s]"
          ],
          "name": "stderr"
        },
        {
          "output_type": "stream",
          "text": [
            "4\n"
          ],
          "name": "stdout"
        },
        {
          "output_type": "stream",
          "text": [
            "Train Epoch 4: 100%|██████████| 313/313 [03:21<00:00,  1.55batch/s, train_acc=0.602, train_loss=0.641]\n",
            "Valid Epoch 4: 100%|██████████| 313/313 [00:20<00:00, 15.36batch/s, valid_acc=0.56, valid_loss=0.693]\n",
            "  0%|          | 0/313 [00:00<?, ?batch/s]"
          ],
          "name": "stderr"
        },
        {
          "output_type": "stream",
          "text": [
            "5\n"
          ],
          "name": "stdout"
        },
        {
          "output_type": "stream",
          "text": [
            "Train Epoch 5: 100%|██████████| 313/313 [03:21<00:00,  1.55batch/s, train_acc=0.621, train_loss=0.625]\n",
            "Valid Epoch 5: 100%|██████████| 313/313 [00:20<00:00, 15.15batch/s, valid_acc=0.569, valid_loss=0.711]\n",
            "  0%|          | 0/313 [00:00<?, ?batch/s]"
          ],
          "name": "stderr"
        },
        {
          "output_type": "stream",
          "text": [
            "6\n"
          ],
          "name": "stdout"
        },
        {
          "output_type": "stream",
          "text": [
            "Train Epoch 6: 100%|██████████| 313/313 [03:21<00:00,  1.55batch/s, train_acc=0.631, train_loss=0.607]\n",
            "Valid Epoch 6: 100%|██████████| 313/313 [00:20<00:00, 15.30batch/s, valid_acc=0.579, valid_loss=0.746]\n",
            "  0%|          | 0/313 [00:00<?, ?batch/s]"
          ],
          "name": "stderr"
        },
        {
          "output_type": "stream",
          "text": [
            "7\n"
          ],
          "name": "stdout"
        },
        {
          "output_type": "stream",
          "text": [
            "Train Epoch 7: 100%|██████████| 313/313 [03:22<00:00,  1.55batch/s, train_acc=0.64, train_loss=0.594]\n",
            "Valid Epoch 7: 100%|██████████| 313/313 [00:20<00:00, 15.54batch/s, valid_acc=0.581, valid_loss=0.796]\n",
            "  0%|          | 0/313 [00:00<?, ?batch/s]"
          ],
          "name": "stderr"
        },
        {
          "output_type": "stream",
          "text": [
            "8\n"
          ],
          "name": "stdout"
        },
        {
          "output_type": "stream",
          "text": [
            "Train Epoch 8: 100%|██████████| 313/313 [03:22<00:00,  1.55batch/s, train_acc=0.649, train_loss=0.576]\n",
            "Valid Epoch 8: 100%|██████████| 313/313 [00:20<00:00, 15.29batch/s, valid_acc=0.541, valid_loss=0.853]\n",
            "  0%|          | 0/313 [00:00<?, ?batch/s]"
          ],
          "name": "stderr"
        },
        {
          "output_type": "stream",
          "text": [
            "9\n"
          ],
          "name": "stdout"
        },
        {
          "output_type": "stream",
          "text": [
            "Train Epoch 9: 100%|██████████| 313/313 [03:21<00:00,  1.55batch/s, train_acc=0.657, train_loss=0.564]\n",
            "Valid Epoch 9: 100%|██████████| 313/313 [00:20<00:00, 15.19batch/s, valid_acc=0.557, valid_loss=0.778]\n"
          ],
          "name": "stderr"
        },
        {
          "output_type": "stream",
          "text": [
            "[fold: 5]\n"
          ],
          "name": "stdout"
        },
        {
          "output_type": "stream",
          "text": [
            "\r  0%|          | 0/313 [00:00<?, ?batch/s]"
          ],
          "name": "stderr"
        },
        {
          "output_type": "stream",
          "text": [
            "0\n"
          ],
          "name": "stdout"
        },
        {
          "output_type": "stream",
          "text": [
            "Train Epoch 0: 100%|██████████| 313/313 [03:21<00:00,  1.56batch/s, train_acc=0.545, train_loss=0.683]\n",
            "Valid Epoch 0: 100%|██████████| 313/313 [00:20<00:00, 14.99batch/s, valid_acc=0.514, valid_loss=0.759]\n",
            "  0%|          | 0/313 [00:00<?, ?batch/s]"
          ],
          "name": "stderr"
        },
        {
          "output_type": "stream",
          "text": [
            "1\n"
          ],
          "name": "stdout"
        },
        {
          "output_type": "stream",
          "text": [
            "Train Epoch 1: 100%|██████████| 313/313 [03:20<00:00,  1.56batch/s, train_acc=0.565, train_loss=0.674]\n",
            "Valid Epoch 1: 100%|██████████| 313/313 [00:20<00:00, 15.16batch/s, valid_acc=0.556, valid_loss=0.687]\n",
            "  0%|          | 0/313 [00:00<?, ?batch/s]"
          ],
          "name": "stderr"
        },
        {
          "output_type": "stream",
          "text": [
            "2\n"
          ],
          "name": "stdout"
        },
        {
          "output_type": "stream",
          "text": [
            "Train Epoch 2: 100%|██████████| 313/313 [03:20<00:00,  1.56batch/s, train_acc=0.578, train_loss=0.663]\n",
            "Valid Epoch 2: 100%|██████████| 313/313 [00:20<00:00, 15.08batch/s, valid_acc=0.581, valid_loss=0.669]\n",
            "  0%|          | 0/313 [00:00<?, ?batch/s]"
          ],
          "name": "stderr"
        },
        {
          "output_type": "stream",
          "text": [
            "3\n"
          ],
          "name": "stdout"
        },
        {
          "output_type": "stream",
          "text": [
            "Train Epoch 3: 100%|██████████| 313/313 [03:20<00:00,  1.56batch/s, train_acc=0.595, train_loss=0.647]\n",
            "Valid Epoch 3: 100%|██████████| 313/313 [00:20<00:00, 15.04batch/s, valid_acc=0.562, valid_loss=0.696]\n",
            "  0%|          | 0/313 [00:00<?, ?batch/s]"
          ],
          "name": "stderr"
        },
        {
          "output_type": "stream",
          "text": [
            "4\n"
          ],
          "name": "stdout"
        },
        {
          "output_type": "stream",
          "text": [
            "Train Epoch 4: 100%|██████████| 313/313 [03:20<00:00,  1.56batch/s, train_acc=0.614, train_loss=0.633]\n",
            "Valid Epoch 4: 100%|██████████| 313/313 [00:20<00:00, 15.17batch/s, valid_acc=0.597, valid_loss=0.656]\n",
            "  0%|          | 0/313 [00:00<?, ?batch/s]"
          ],
          "name": "stderr"
        },
        {
          "output_type": "stream",
          "text": [
            "5\n"
          ],
          "name": "stdout"
        },
        {
          "output_type": "stream",
          "text": [
            "Train Epoch 5: 100%|██████████| 313/313 [03:20<00:00,  1.56batch/s, train_acc=0.627, train_loss=0.617]\n",
            "Valid Epoch 5: 100%|██████████| 313/313 [00:20<00:00, 15.11batch/s, valid_acc=0.604, valid_loss=0.67]\n",
            "  0%|          | 0/313 [00:00<?, ?batch/s]"
          ],
          "name": "stderr"
        },
        {
          "output_type": "stream",
          "text": [
            "6\n"
          ],
          "name": "stdout"
        },
        {
          "output_type": "stream",
          "text": [
            "Train Epoch 6: 100%|██████████| 313/313 [03:21<00:00,  1.55batch/s, train_acc=0.635, train_loss=0.6]\n",
            "Valid Epoch 6: 100%|██████████| 313/313 [00:20<00:00, 15.09batch/s, valid_acc=0.595, valid_loss=0.687]\n",
            "  0%|          | 0/313 [00:00<?, ?batch/s]"
          ],
          "name": "stderr"
        },
        {
          "output_type": "stream",
          "text": [
            "7\n"
          ],
          "name": "stdout"
        },
        {
          "output_type": "stream",
          "text": [
            "Train Epoch 7: 100%|██████████| 313/313 [03:20<00:00,  1.56batch/s, train_acc=0.644, train_loss=0.583]\n",
            "Valid Epoch 7: 100%|██████████| 313/313 [00:20<00:00, 15.11batch/s, valid_acc=0.594, valid_loss=0.687]\n",
            "  0%|          | 0/313 [00:00<?, ?batch/s]"
          ],
          "name": "stderr"
        },
        {
          "output_type": "stream",
          "text": [
            "8\n"
          ],
          "name": "stdout"
        },
        {
          "output_type": "stream",
          "text": [
            "Train Epoch 8: 100%|██████████| 313/313 [03:21<00:00,  1.55batch/s, train_acc=0.654, train_loss=0.57]\n",
            "Valid Epoch 8: 100%|██████████| 313/313 [00:20<00:00, 14.99batch/s, valid_acc=0.576, valid_loss=0.816]\n",
            "  0%|          | 0/313 [00:00<?, ?batch/s]"
          ],
          "name": "stderr"
        },
        {
          "output_type": "stream",
          "text": [
            "9\n"
          ],
          "name": "stdout"
        },
        {
          "output_type": "stream",
          "text": [
            "Train Epoch 9: 100%|██████████| 313/313 [03:21<00:00,  1.56batch/s, train_acc=0.665, train_loss=0.56]\n",
            "Valid Epoch 9: 100%|██████████| 313/313 [00:20<00:00, 15.20batch/s, valid_acc=0.568, valid_loss=0.87]\n"
          ],
          "name": "stderr"
        }
      ]
    },
    {
      "cell_type": "markdown",
      "metadata": {
        "id": "designing-cocktail"
      },
      "source": [
        "6. 학습 결과 확인"
      ],
      "id": "designing-cocktail"
    },
    {
      "cell_type": "code",
      "metadata": {
        "id": "developmental-interim"
      },
      "source": [
        "# gpu에 올라가 있는 tensor -> cpu로 이동 -> numpy array로 변환\n",
        "sample_images = images.cpu().detach().numpy()\n",
        "sample_prob = probs\n",
        "sample_labels = labels\n",
        "\n",
        "idx = 1\n",
        "plt.imshow(sample_images[idx][0])\n",
        "plt.title(\"sample input image\")\n",
        "plt.show()\n",
        "\n",
        "print('예측값 : ',dirty_mnist_answer.columns[1:][sample_prob[idx] > 0.5])\n",
        "print('정답값 : ', dirty_mnist_answer.columns[1:][sample_labels[idx] > 0.5])"
      ],
      "id": "developmental-interim",
      "execution_count": null,
      "outputs": []
    },
    {
      "cell_type": "markdown",
      "metadata": {
        "id": "monetary-modern"
      },
      "source": [
        "7. 앙상블 적용"
      ],
      "id": "monetary-modern"
    },
    {
      "cell_type": "code",
      "metadata": {
        "id": "FPqJt2fUkH_4"
      },
      "source": [
        "#test Dataset 정의\n",
        "sample_submission = pd.read_csv(\"sample_submission.csv\")\n",
        "test_dataset = DatasetMNIST(\"test_dirty_mnist_2nd/\", sample_submission)\n",
        "batch_size = 128\n",
        "test_data_loader = DataLoader(\n",
        "    test_dataset,\n",
        "    batch_size = batch_size,\n",
        "    shuffle = False,\n",
        "    num_workers = 3,\n",
        "    drop_last = False\n",
        ")"
      ],
      "id": "FPqJt2fUkH_4",
      "execution_count": null,
      "outputs": []
    },
    {
      "cell_type": "code",
      "metadata": {
        "id": "regular-competition"
      },
      "source": [
        "predictions_list = []\n",
        "# 배치 단위로 추론\n",
        "prediction_df = pd.read_csv(\"sample_submission.csv\")\n",
        "\n",
        "# 5개의 fold마다 가장 좋은 모델을 이용하여 예측\n",
        "for model in best_models:\n",
        "    # 0으로 채워진 array 생성\n",
        "    prediction_array = np.zeros([prediction_df.shape[0],\n",
        "                                 prediction_df.shape[1] -1])\n",
        "    for idx, sample in enumerate(test_data_loader):\n",
        "        with torch.no_grad():\n",
        "            # 추론\n",
        "            model.eval()\n",
        "            images = sample['image']\n",
        "            images = images.to(device)\n",
        "            probs  = model(images)\n",
        "            probs = probs.cpu().detach().numpy()\n",
        "            preds = (probs > 0.5)\n",
        "\n",
        "            # 예측 결과를 \n",
        "            # prediction_array에 입력\n",
        "            batch_index = batch_size * idx\n",
        "            prediction_array[batch_index: batch_index + images.shape[0],:]\\\n",
        "                         = preds.astype(int)\n",
        "                         \n",
        "    # 채널을 하나 추가하여 list에 append\n",
        "    predictions_list.append(prediction_array[...,np.newaxis])"
      ],
      "id": "regular-competition",
      "execution_count": null,
      "outputs": []
    },
    {
      "cell_type": "code",
      "metadata": {
        "id": "minimal-scientist"
      },
      "source": [
        "# axis = 2를 기준으로 평균\n",
        "predictions_array = np.concatenate(predictions_list, axis = 2)\n",
        "predictions_mean = predictions_array.mean(axis = 2)\n",
        "\n",
        "# 평균 값이 0.5보다 클 경우 1 작으면 0\n",
        "predictions_mean = (predictions_mean > 0.5) * 1\n",
        "predictions_mean"
      ],
      "id": "minimal-scientist",
      "execution_count": null,
      "outputs": []
    },
    {
      "cell_type": "markdown",
      "metadata": {
        "id": "independent-device"
      },
      "source": [
        "8. 제출파일 생성"
      ],
      "id": "independent-device"
    },
    {
      "cell_type": "code",
      "metadata": {
        "id": "baking-water",
        "colab": {
          "base_uri": "https://localhost:8080/",
          "height": 821
        },
        "outputId": "d27c8156-a4b0-425e-f855-74d569be7e58"
      },
      "source": [
        "sample_submission = pd.read_csv(\"sample_submission.csv\")\n",
        "sample_submission.iloc[:,1:] = predictions_mean\n",
        "sample_submission.to_csv(\"baseline_prediction.csv\", index = False)\n",
        "sample_submission"
      ],
      "id": "baking-water",
      "execution_count": null,
      "outputs": [
        {
          "output_type": "execute_result",
          "data": {
            "text/html": [
              "<div>\n",
              "<style scoped>\n",
              "    .dataframe tbody tr th:only-of-type {\n",
              "        vertical-align: middle;\n",
              "    }\n",
              "\n",
              "    .dataframe tbody tr th {\n",
              "        vertical-align: top;\n",
              "    }\n",
              "\n",
              "    .dataframe thead th {\n",
              "        text-align: right;\n",
              "    }\n",
              "</style>\n",
              "<table border=\"1\" class=\"dataframe\">\n",
              "  <thead>\n",
              "    <tr style=\"text-align: right;\">\n",
              "      <th></th>\n",
              "      <th>index</th>\n",
              "      <th>a</th>\n",
              "      <th>b</th>\n",
              "      <th>c</th>\n",
              "      <th>d</th>\n",
              "      <th>e</th>\n",
              "      <th>f</th>\n",
              "      <th>g</th>\n",
              "      <th>h</th>\n",
              "      <th>i</th>\n",
              "      <th>j</th>\n",
              "      <th>k</th>\n",
              "      <th>l</th>\n",
              "      <th>m</th>\n",
              "      <th>n</th>\n",
              "      <th>o</th>\n",
              "      <th>p</th>\n",
              "      <th>q</th>\n",
              "      <th>r</th>\n",
              "      <th>s</th>\n",
              "      <th>t</th>\n",
              "      <th>u</th>\n",
              "      <th>v</th>\n",
              "      <th>w</th>\n",
              "      <th>x</th>\n",
              "      <th>y</th>\n",
              "      <th>z</th>\n",
              "    </tr>\n",
              "  </thead>\n",
              "  <tbody>\n",
              "    <tr>\n",
              "      <th>0</th>\n",
              "      <td>50000</td>\n",
              "      <td>0</td>\n",
              "      <td>0</td>\n",
              "      <td>0</td>\n",
              "      <td>0</td>\n",
              "      <td>0</td>\n",
              "      <td>1</td>\n",
              "      <td>0</td>\n",
              "      <td>1</td>\n",
              "      <td>1</td>\n",
              "      <td>0</td>\n",
              "      <td>1</td>\n",
              "      <td>1</td>\n",
              "      <td>0</td>\n",
              "      <td>1</td>\n",
              "      <td>0</td>\n",
              "      <td>0</td>\n",
              "      <td>0</td>\n",
              "      <td>1</td>\n",
              "      <td>0</td>\n",
              "      <td>1</td>\n",
              "      <td>0</td>\n",
              "      <td>1</td>\n",
              "      <td>0</td>\n",
              "      <td>1</td>\n",
              "      <td>1</td>\n",
              "      <td>1</td>\n",
              "    </tr>\n",
              "    <tr>\n",
              "      <th>1</th>\n",
              "      <td>50001</td>\n",
              "      <td>0</td>\n",
              "      <td>1</td>\n",
              "      <td>0</td>\n",
              "      <td>0</td>\n",
              "      <td>0</td>\n",
              "      <td>0</td>\n",
              "      <td>1</td>\n",
              "      <td>0</td>\n",
              "      <td>1</td>\n",
              "      <td>1</td>\n",
              "      <td>0</td>\n",
              "      <td>1</td>\n",
              "      <td>1</td>\n",
              "      <td>1</td>\n",
              "      <td>1</td>\n",
              "      <td>0</td>\n",
              "      <td>1</td>\n",
              "      <td>0</td>\n",
              "      <td>1</td>\n",
              "      <td>0</td>\n",
              "      <td>1</td>\n",
              "      <td>0</td>\n",
              "      <td>1</td>\n",
              "      <td>0</td>\n",
              "      <td>0</td>\n",
              "      <td>1</td>\n",
              "    </tr>\n",
              "    <tr>\n",
              "      <th>2</th>\n",
              "      <td>50002</td>\n",
              "      <td>0</td>\n",
              "      <td>0</td>\n",
              "      <td>0</td>\n",
              "      <td>0</td>\n",
              "      <td>0</td>\n",
              "      <td>1</td>\n",
              "      <td>0</td>\n",
              "      <td>1</td>\n",
              "      <td>1</td>\n",
              "      <td>1</td>\n",
              "      <td>1</td>\n",
              "      <td>0</td>\n",
              "      <td>1</td>\n",
              "      <td>1</td>\n",
              "      <td>0</td>\n",
              "      <td>0</td>\n",
              "      <td>0</td>\n",
              "      <td>1</td>\n",
              "      <td>1</td>\n",
              "      <td>1</td>\n",
              "      <td>0</td>\n",
              "      <td>1</td>\n",
              "      <td>1</td>\n",
              "      <td>1</td>\n",
              "      <td>0</td>\n",
              "      <td>1</td>\n",
              "    </tr>\n",
              "    <tr>\n",
              "      <th>3</th>\n",
              "      <td>50003</td>\n",
              "      <td>0</td>\n",
              "      <td>1</td>\n",
              "      <td>0</td>\n",
              "      <td>0</td>\n",
              "      <td>0</td>\n",
              "      <td>1</td>\n",
              "      <td>0</td>\n",
              "      <td>1</td>\n",
              "      <td>0</td>\n",
              "      <td>0</td>\n",
              "      <td>1</td>\n",
              "      <td>0</td>\n",
              "      <td>1</td>\n",
              "      <td>1</td>\n",
              "      <td>0</td>\n",
              "      <td>0</td>\n",
              "      <td>0</td>\n",
              "      <td>1</td>\n",
              "      <td>0</td>\n",
              "      <td>1</td>\n",
              "      <td>0</td>\n",
              "      <td>0</td>\n",
              "      <td>1</td>\n",
              "      <td>1</td>\n",
              "      <td>1</td>\n",
              "      <td>1</td>\n",
              "    </tr>\n",
              "    <tr>\n",
              "      <th>4</th>\n",
              "      <td>50004</td>\n",
              "      <td>0</td>\n",
              "      <td>0</td>\n",
              "      <td>1</td>\n",
              "      <td>0</td>\n",
              "      <td>1</td>\n",
              "      <td>0</td>\n",
              "      <td>0</td>\n",
              "      <td>0</td>\n",
              "      <td>0</td>\n",
              "      <td>0</td>\n",
              "      <td>0</td>\n",
              "      <td>0</td>\n",
              "      <td>1</td>\n",
              "      <td>0</td>\n",
              "      <td>1</td>\n",
              "      <td>0</td>\n",
              "      <td>0</td>\n",
              "      <td>0</td>\n",
              "      <td>1</td>\n",
              "      <td>0</td>\n",
              "      <td>1</td>\n",
              "      <td>0</td>\n",
              "      <td>1</td>\n",
              "      <td>1</td>\n",
              "      <td>0</td>\n",
              "      <td>0</td>\n",
              "    </tr>\n",
              "    <tr>\n",
              "      <th>...</th>\n",
              "      <td>...</td>\n",
              "      <td>...</td>\n",
              "      <td>...</td>\n",
              "      <td>...</td>\n",
              "      <td>...</td>\n",
              "      <td>...</td>\n",
              "      <td>...</td>\n",
              "      <td>...</td>\n",
              "      <td>...</td>\n",
              "      <td>...</td>\n",
              "      <td>...</td>\n",
              "      <td>...</td>\n",
              "      <td>...</td>\n",
              "      <td>...</td>\n",
              "      <td>...</td>\n",
              "      <td>...</td>\n",
              "      <td>...</td>\n",
              "      <td>...</td>\n",
              "      <td>...</td>\n",
              "      <td>...</td>\n",
              "      <td>...</td>\n",
              "      <td>...</td>\n",
              "      <td>...</td>\n",
              "      <td>...</td>\n",
              "      <td>...</td>\n",
              "      <td>...</td>\n",
              "      <td>...</td>\n",
              "    </tr>\n",
              "    <tr>\n",
              "      <th>4995</th>\n",
              "      <td>54995</td>\n",
              "      <td>0</td>\n",
              "      <td>0</td>\n",
              "      <td>0</td>\n",
              "      <td>0</td>\n",
              "      <td>0</td>\n",
              "      <td>1</td>\n",
              "      <td>0</td>\n",
              "      <td>1</td>\n",
              "      <td>0</td>\n",
              "      <td>0</td>\n",
              "      <td>1</td>\n",
              "      <td>0</td>\n",
              "      <td>1</td>\n",
              "      <td>1</td>\n",
              "      <td>1</td>\n",
              "      <td>0</td>\n",
              "      <td>0</td>\n",
              "      <td>0</td>\n",
              "      <td>0</td>\n",
              "      <td>1</td>\n",
              "      <td>0</td>\n",
              "      <td>0</td>\n",
              "      <td>1</td>\n",
              "      <td>1</td>\n",
              "      <td>0</td>\n",
              "      <td>1</td>\n",
              "    </tr>\n",
              "    <tr>\n",
              "      <th>4996</th>\n",
              "      <td>54996</td>\n",
              "      <td>0</td>\n",
              "      <td>0</td>\n",
              "      <td>0</td>\n",
              "      <td>0</td>\n",
              "      <td>0</td>\n",
              "      <td>1</td>\n",
              "      <td>0</td>\n",
              "      <td>1</td>\n",
              "      <td>1</td>\n",
              "      <td>1</td>\n",
              "      <td>1</td>\n",
              "      <td>0</td>\n",
              "      <td>1</td>\n",
              "      <td>1</td>\n",
              "      <td>1</td>\n",
              "      <td>0</td>\n",
              "      <td>0</td>\n",
              "      <td>0</td>\n",
              "      <td>1</td>\n",
              "      <td>1</td>\n",
              "      <td>0</td>\n",
              "      <td>0</td>\n",
              "      <td>1</td>\n",
              "      <td>1</td>\n",
              "      <td>1</td>\n",
              "      <td>1</td>\n",
              "    </tr>\n",
              "    <tr>\n",
              "      <th>4997</th>\n",
              "      <td>54997</td>\n",
              "      <td>0</td>\n",
              "      <td>0</td>\n",
              "      <td>0</td>\n",
              "      <td>0</td>\n",
              "      <td>0</td>\n",
              "      <td>1</td>\n",
              "      <td>0</td>\n",
              "      <td>1</td>\n",
              "      <td>1</td>\n",
              "      <td>0</td>\n",
              "      <td>1</td>\n",
              "      <td>0</td>\n",
              "      <td>1</td>\n",
              "      <td>1</td>\n",
              "      <td>1</td>\n",
              "      <td>0</td>\n",
              "      <td>0</td>\n",
              "      <td>1</td>\n",
              "      <td>1</td>\n",
              "      <td>1</td>\n",
              "      <td>1</td>\n",
              "      <td>1</td>\n",
              "      <td>1</td>\n",
              "      <td>1</td>\n",
              "      <td>1</td>\n",
              "      <td>1</td>\n",
              "    </tr>\n",
              "    <tr>\n",
              "      <th>4998</th>\n",
              "      <td>54998</td>\n",
              "      <td>0</td>\n",
              "      <td>0</td>\n",
              "      <td>0</td>\n",
              "      <td>0</td>\n",
              "      <td>0</td>\n",
              "      <td>0</td>\n",
              "      <td>0</td>\n",
              "      <td>1</td>\n",
              "      <td>1</td>\n",
              "      <td>1</td>\n",
              "      <td>0</td>\n",
              "      <td>1</td>\n",
              "      <td>1</td>\n",
              "      <td>1</td>\n",
              "      <td>0</td>\n",
              "      <td>0</td>\n",
              "      <td>0</td>\n",
              "      <td>0</td>\n",
              "      <td>1</td>\n",
              "      <td>0</td>\n",
              "      <td>0</td>\n",
              "      <td>1</td>\n",
              "      <td>1</td>\n",
              "      <td>0</td>\n",
              "      <td>0</td>\n",
              "      <td>1</td>\n",
              "    </tr>\n",
              "    <tr>\n",
              "      <th>4999</th>\n",
              "      <td>54999</td>\n",
              "      <td>0</td>\n",
              "      <td>0</td>\n",
              "      <td>0</td>\n",
              "      <td>0</td>\n",
              "      <td>0</td>\n",
              "      <td>1</td>\n",
              "      <td>0</td>\n",
              "      <td>1</td>\n",
              "      <td>1</td>\n",
              "      <td>0</td>\n",
              "      <td>1</td>\n",
              "      <td>1</td>\n",
              "      <td>1</td>\n",
              "      <td>1</td>\n",
              "      <td>0</td>\n",
              "      <td>0</td>\n",
              "      <td>0</td>\n",
              "      <td>0</td>\n",
              "      <td>1</td>\n",
              "      <td>1</td>\n",
              "      <td>0</td>\n",
              "      <td>0</td>\n",
              "      <td>1</td>\n",
              "      <td>1</td>\n",
              "      <td>0</td>\n",
              "      <td>1</td>\n",
              "    </tr>\n",
              "  </tbody>\n",
              "</table>\n",
              "<p>5000 rows × 27 columns</p>\n",
              "</div>"
            ],
            "text/plain": [
              "      index  a  b  c  d  e  f  g  h  i  j  ...  p  q  r  s  t  u  v  w  x  y  z\n",
              "0     50000  0  0  0  0  0  1  0  1  1  0  ...  0  0  1  0  1  0  1  0  1  1  1\n",
              "1     50001  0  1  0  0  0  0  1  0  1  1  ...  0  1  0  1  0  1  0  1  0  0  1\n",
              "2     50002  0  0  0  0  0  1  0  1  1  1  ...  0  0  1  1  1  0  1  1  1  0  1\n",
              "3     50003  0  1  0  0  0  1  0  1  0  0  ...  0  0  1  0  1  0  0  1  1  1  1\n",
              "4     50004  0  0  1  0  1  0  0  0  0  0  ...  0  0  0  1  0  1  0  1  1  0  0\n",
              "...     ... .. .. .. .. .. .. .. .. .. ..  ... .. .. .. .. .. .. .. .. .. .. ..\n",
              "4995  54995  0  0  0  0  0  1  0  1  0  0  ...  0  0  0  0  1  0  0  1  1  0  1\n",
              "4996  54996  0  0  0  0  0  1  0  1  1  1  ...  0  0  0  1  1  0  0  1  1  1  1\n",
              "4997  54997  0  0  0  0  0  1  0  1  1  0  ...  0  0  1  1  1  1  1  1  1  1  1\n",
              "4998  54998  0  0  0  0  0  0  0  1  1  1  ...  0  0  0  1  0  0  1  1  0  0  1\n",
              "4999  54999  0  0  0  0  0  1  0  1  1  0  ...  0  0  0  1  1  0  0  1  1  0  1\n",
              "\n",
              "[5000 rows x 27 columns]"
            ]
          },
          "metadata": {
            "tags": []
          },
          "execution_count": 0
        },
        {
          "output_type": "execute_result",
          "data": {
            "text/html": [
              "<div>\n",
              "<style scoped>\n",
              "    .dataframe tbody tr th:only-of-type {\n",
              "        vertical-align: middle;\n",
              "    }\n",
              "\n",
              "    .dataframe tbody tr th {\n",
              "        vertical-align: top;\n",
              "    }\n",
              "\n",
              "    .dataframe thead th {\n",
              "        text-align: right;\n",
              "    }\n",
              "</style>\n",
              "<table border=\"1\" class=\"dataframe\">\n",
              "  <thead>\n",
              "    <tr style=\"text-align: right;\">\n",
              "      <th></th>\n",
              "      <th>index</th>\n",
              "      <th>a</th>\n",
              "      <th>b</th>\n",
              "      <th>c</th>\n",
              "      <th>d</th>\n",
              "      <th>e</th>\n",
              "      <th>f</th>\n",
              "      <th>g</th>\n",
              "      <th>h</th>\n",
              "      <th>i</th>\n",
              "      <th>j</th>\n",
              "      <th>k</th>\n",
              "      <th>l</th>\n",
              "      <th>m</th>\n",
              "      <th>n</th>\n",
              "      <th>o</th>\n",
              "      <th>p</th>\n",
              "      <th>q</th>\n",
              "      <th>r</th>\n",
              "      <th>s</th>\n",
              "      <th>t</th>\n",
              "      <th>u</th>\n",
              "      <th>v</th>\n",
              "      <th>w</th>\n",
              "      <th>x</th>\n",
              "      <th>y</th>\n",
              "      <th>z</th>\n",
              "    </tr>\n",
              "  </thead>\n",
              "  <tbody>\n",
              "    <tr>\n",
              "      <th>0</th>\n",
              "      <td>50000</td>\n",
              "      <td>0</td>\n",
              "      <td>0</td>\n",
              "      <td>0</td>\n",
              "      <td>0</td>\n",
              "      <td>0</td>\n",
              "      <td>1</td>\n",
              "      <td>0</td>\n",
              "      <td>1</td>\n",
              "      <td>1</td>\n",
              "      <td>0</td>\n",
              "      <td>1</td>\n",
              "      <td>1</td>\n",
              "      <td>0</td>\n",
              "      <td>1</td>\n",
              "      <td>0</td>\n",
              "      <td>0</td>\n",
              "      <td>0</td>\n",
              "      <td>1</td>\n",
              "      <td>0</td>\n",
              "      <td>1</td>\n",
              "      <td>0</td>\n",
              "      <td>1</td>\n",
              "      <td>0</td>\n",
              "      <td>1</td>\n",
              "      <td>1</td>\n",
              "      <td>1</td>\n",
              "    </tr>\n",
              "    <tr>\n",
              "      <th>1</th>\n",
              "      <td>50001</td>\n",
              "      <td>0</td>\n",
              "      <td>1</td>\n",
              "      <td>0</td>\n",
              "      <td>0</td>\n",
              "      <td>0</td>\n",
              "      <td>0</td>\n",
              "      <td>1</td>\n",
              "      <td>0</td>\n",
              "      <td>1</td>\n",
              "      <td>1</td>\n",
              "      <td>0</td>\n",
              "      <td>1</td>\n",
              "      <td>1</td>\n",
              "      <td>1</td>\n",
              "      <td>1</td>\n",
              "      <td>0</td>\n",
              "      <td>1</td>\n",
              "      <td>0</td>\n",
              "      <td>1</td>\n",
              "      <td>0</td>\n",
              "      <td>1</td>\n",
              "      <td>0</td>\n",
              "      <td>1</td>\n",
              "      <td>0</td>\n",
              "      <td>0</td>\n",
              "      <td>1</td>\n",
              "    </tr>\n",
              "    <tr>\n",
              "      <th>2</th>\n",
              "      <td>50002</td>\n",
              "      <td>0</td>\n",
              "      <td>0</td>\n",
              "      <td>0</td>\n",
              "      <td>0</td>\n",
              "      <td>0</td>\n",
              "      <td>1</td>\n",
              "      <td>0</td>\n",
              "      <td>1</td>\n",
              "      <td>1</td>\n",
              "      <td>1</td>\n",
              "      <td>1</td>\n",
              "      <td>0</td>\n",
              "      <td>1</td>\n",
              "      <td>1</td>\n",
              "      <td>0</td>\n",
              "      <td>0</td>\n",
              "      <td>0</td>\n",
              "      <td>1</td>\n",
              "      <td>1</td>\n",
              "      <td>1</td>\n",
              "      <td>0</td>\n",
              "      <td>1</td>\n",
              "      <td>1</td>\n",
              "      <td>1</td>\n",
              "      <td>0</td>\n",
              "      <td>1</td>\n",
              "    </tr>\n",
              "    <tr>\n",
              "      <th>3</th>\n",
              "      <td>50003</td>\n",
              "      <td>0</td>\n",
              "      <td>1</td>\n",
              "      <td>0</td>\n",
              "      <td>0</td>\n",
              "      <td>0</td>\n",
              "      <td>1</td>\n",
              "      <td>0</td>\n",
              "      <td>1</td>\n",
              "      <td>0</td>\n",
              "      <td>0</td>\n",
              "      <td>1</td>\n",
              "      <td>0</td>\n",
              "      <td>1</td>\n",
              "      <td>1</td>\n",
              "      <td>0</td>\n",
              "      <td>0</td>\n",
              "      <td>0</td>\n",
              "      <td>1</td>\n",
              "      <td>0</td>\n",
              "      <td>1</td>\n",
              "      <td>0</td>\n",
              "      <td>0</td>\n",
              "      <td>1</td>\n",
              "      <td>1</td>\n",
              "      <td>1</td>\n",
              "      <td>1</td>\n",
              "    </tr>\n",
              "    <tr>\n",
              "      <th>4</th>\n",
              "      <td>50004</td>\n",
              "      <td>0</td>\n",
              "      <td>0</td>\n",
              "      <td>1</td>\n",
              "      <td>0</td>\n",
              "      <td>1</td>\n",
              "      <td>0</td>\n",
              "      <td>0</td>\n",
              "      <td>0</td>\n",
              "      <td>0</td>\n",
              "      <td>0</td>\n",
              "      <td>0</td>\n",
              "      <td>0</td>\n",
              "      <td>1</td>\n",
              "      <td>0</td>\n",
              "      <td>1</td>\n",
              "      <td>0</td>\n",
              "      <td>0</td>\n",
              "      <td>0</td>\n",
              "      <td>1</td>\n",
              "      <td>0</td>\n",
              "      <td>1</td>\n",
              "      <td>0</td>\n",
              "      <td>1</td>\n",
              "      <td>1</td>\n",
              "      <td>0</td>\n",
              "      <td>0</td>\n",
              "    </tr>\n",
              "    <tr>\n",
              "      <th>...</th>\n",
              "      <td>...</td>\n",
              "      <td>...</td>\n",
              "      <td>...</td>\n",
              "      <td>...</td>\n",
              "      <td>...</td>\n",
              "      <td>...</td>\n",
              "      <td>...</td>\n",
              "      <td>...</td>\n",
              "      <td>...</td>\n",
              "      <td>...</td>\n",
              "      <td>...</td>\n",
              "      <td>...</td>\n",
              "      <td>...</td>\n",
              "      <td>...</td>\n",
              "      <td>...</td>\n",
              "      <td>...</td>\n",
              "      <td>...</td>\n",
              "      <td>...</td>\n",
              "      <td>...</td>\n",
              "      <td>...</td>\n",
              "      <td>...</td>\n",
              "      <td>...</td>\n",
              "      <td>...</td>\n",
              "      <td>...</td>\n",
              "      <td>...</td>\n",
              "      <td>...</td>\n",
              "      <td>...</td>\n",
              "    </tr>\n",
              "    <tr>\n",
              "      <th>4995</th>\n",
              "      <td>54995</td>\n",
              "      <td>0</td>\n",
              "      <td>0</td>\n",
              "      <td>0</td>\n",
              "      <td>0</td>\n",
              "      <td>0</td>\n",
              "      <td>1</td>\n",
              "      <td>0</td>\n",
              "      <td>1</td>\n",
              "      <td>0</td>\n",
              "      <td>0</td>\n",
              "      <td>1</td>\n",
              "      <td>0</td>\n",
              "      <td>1</td>\n",
              "      <td>1</td>\n",
              "      <td>1</td>\n",
              "      <td>0</td>\n",
              "      <td>0</td>\n",
              "      <td>0</td>\n",
              "      <td>0</td>\n",
              "      <td>1</td>\n",
              "      <td>0</td>\n",
              "      <td>0</td>\n",
              "      <td>1</td>\n",
              "      <td>1</td>\n",
              "      <td>0</td>\n",
              "      <td>1</td>\n",
              "    </tr>\n",
              "    <tr>\n",
              "      <th>4996</th>\n",
              "      <td>54996</td>\n",
              "      <td>0</td>\n",
              "      <td>0</td>\n",
              "      <td>0</td>\n",
              "      <td>0</td>\n",
              "      <td>0</td>\n",
              "      <td>1</td>\n",
              "      <td>0</td>\n",
              "      <td>1</td>\n",
              "      <td>1</td>\n",
              "      <td>1</td>\n",
              "      <td>1</td>\n",
              "      <td>0</td>\n",
              "      <td>1</td>\n",
              "      <td>1</td>\n",
              "      <td>1</td>\n",
              "      <td>0</td>\n",
              "      <td>0</td>\n",
              "      <td>0</td>\n",
              "      <td>1</td>\n",
              "      <td>1</td>\n",
              "      <td>0</td>\n",
              "      <td>0</td>\n",
              "      <td>1</td>\n",
              "      <td>1</td>\n",
              "      <td>1</td>\n",
              "      <td>1</td>\n",
              "    </tr>\n",
              "    <tr>\n",
              "      <th>4997</th>\n",
              "      <td>54997</td>\n",
              "      <td>0</td>\n",
              "      <td>0</td>\n",
              "      <td>0</td>\n",
              "      <td>0</td>\n",
              "      <td>0</td>\n",
              "      <td>1</td>\n",
              "      <td>0</td>\n",
              "      <td>1</td>\n",
              "      <td>1</td>\n",
              "      <td>0</td>\n",
              "      <td>1</td>\n",
              "      <td>0</td>\n",
              "      <td>1</td>\n",
              "      <td>1</td>\n",
              "      <td>1</td>\n",
              "      <td>0</td>\n",
              "      <td>0</td>\n",
              "      <td>1</td>\n",
              "      <td>1</td>\n",
              "      <td>1</td>\n",
              "      <td>1</td>\n",
              "      <td>1</td>\n",
              "      <td>1</td>\n",
              "      <td>1</td>\n",
              "      <td>1</td>\n",
              "      <td>1</td>\n",
              "    </tr>\n",
              "    <tr>\n",
              "      <th>4998</th>\n",
              "      <td>54998</td>\n",
              "      <td>0</td>\n",
              "      <td>0</td>\n",
              "      <td>0</td>\n",
              "      <td>0</td>\n",
              "      <td>0</td>\n",
              "      <td>0</td>\n",
              "      <td>0</td>\n",
              "      <td>1</td>\n",
              "      <td>1</td>\n",
              "      <td>1</td>\n",
              "      <td>0</td>\n",
              "      <td>1</td>\n",
              "      <td>1</td>\n",
              "      <td>1</td>\n",
              "      <td>0</td>\n",
              "      <td>0</td>\n",
              "      <td>0</td>\n",
              "      <td>0</td>\n",
              "      <td>1</td>\n",
              "      <td>0</td>\n",
              "      <td>0</td>\n",
              "      <td>1</td>\n",
              "      <td>1</td>\n",
              "      <td>0</td>\n",
              "      <td>0</td>\n",
              "      <td>1</td>\n",
              "    </tr>\n",
              "    <tr>\n",
              "      <th>4999</th>\n",
              "      <td>54999</td>\n",
              "      <td>0</td>\n",
              "      <td>0</td>\n",
              "      <td>0</td>\n",
              "      <td>0</td>\n",
              "      <td>0</td>\n",
              "      <td>1</td>\n",
              "      <td>0</td>\n",
              "      <td>1</td>\n",
              "      <td>1</td>\n",
              "      <td>0</td>\n",
              "      <td>1</td>\n",
              "      <td>1</td>\n",
              "      <td>1</td>\n",
              "      <td>1</td>\n",
              "      <td>0</td>\n",
              "      <td>0</td>\n",
              "      <td>0</td>\n",
              "      <td>0</td>\n",
              "      <td>1</td>\n",
              "      <td>1</td>\n",
              "      <td>0</td>\n",
              "      <td>0</td>\n",
              "      <td>1</td>\n",
              "      <td>1</td>\n",
              "      <td>0</td>\n",
              "      <td>1</td>\n",
              "    </tr>\n",
              "  </tbody>\n",
              "</table>\n",
              "<p>5000 rows × 27 columns</p>\n",
              "</div>"
            ],
            "text/plain": [
              "      index  a  b  c  d  e  f  g  h  i  j  ...  p  q  r  s  t  u  v  w  x  y  z\n",
              "0     50000  0  0  0  0  0  1  0  1  1  0  ...  0  0  1  0  1  0  1  0  1  1  1\n",
              "1     50001  0  1  0  0  0  0  1  0  1  1  ...  0  1  0  1  0  1  0  1  0  0  1\n",
              "2     50002  0  0  0  0  0  1  0  1  1  1  ...  0  0  1  1  1  0  1  1  1  0  1\n",
              "3     50003  0  1  0  0  0  1  0  1  0  0  ...  0  0  1  0  1  0  0  1  1  1  1\n",
              "4     50004  0  0  1  0  1  0  0  0  0  0  ...  0  0  0  1  0  1  0  1  1  0  0\n",
              "...     ... .. .. .. .. .. .. .. .. .. ..  ... .. .. .. .. .. .. .. .. .. .. ..\n",
              "4995  54995  0  0  0  0  0  1  0  1  0  0  ...  0  0  0  0  1  0  0  1  1  0  1\n",
              "4996  54996  0  0  0  0  0  1  0  1  1  1  ...  0  0  0  1  1  0  0  1  1  1  1\n",
              "4997  54997  0  0  0  0  0  1  0  1  1  0  ...  0  0  1  1  1  1  1  1  1  1  1\n",
              "4998  54998  0  0  0  0  0  0  0  1  1  1  ...  0  0  0  1  0  0  1  1  0  0  1\n",
              "4999  54999  0  0  0  0  0  1  0  1  1  0  ...  0  0  0  1  1  0  0  1  1  0  1\n",
              "\n",
              "[5000 rows x 27 columns]"
            ]
          },
          "metadata": {
            "tags": []
          },
          "execution_count": 15
        }
      ]
    }
  ]
}