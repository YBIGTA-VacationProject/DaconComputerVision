{
 "cells": [
  {
   "cell_type": "code",
   "execution_count": 25,
   "metadata": {},
   "outputs": [],
   "source": [
    "from sklearn.model_selection import train_test_split\n",
    "import pandas as pd\n",
    "import shutil\n",
    "import os\n",
    "import json"
   ]
  },
  {
   "cell_type": "code",
   "execution_count": 4,
   "metadata": {},
   "outputs": [],
   "source": [
    "namelist = os.listdir('./dirty_mnist/')\n",
    "answer = pd.read_csv('dirty_mnist_answer.csv')"
   ]
  },
  {
   "cell_type": "code",
   "execution_count": 15,
   "metadata": {},
   "outputs": [],
   "source": [
    "train, val = train_test_split(namelist, test_size=0.2, random_state=23)\n",
    "train_num = [int(t[:5]) for t in train]\n",
    "val_num = [int(v[:5]) for v in val]\n",
    "train_ohe = [True if i in train_num else False for i in range(50000)]\n",
    "val_ohe = [True if i in val_num else False for i in range(50000)]\n",
    "train_ans = answer[train_ohe]\n",
    "val_ans = answer[val_ohe]"
   ]
  },
  {
   "cell_type": "code",
   "execution_count": 24,
   "metadata": {},
   "outputs": [],
   "source": [
    "os.makedirs('./dirty_mnist_train', exist_ok=True)\n",
    "os.makedirs('./dirty_mnist_val', exist_ok=True)\n",
    "for t in train:\n",
    "    shutil.move('./dirty_mnist/' + t, './dirty_mnist_train')\n",
    "for v in val:\n",
    "    shutil.move('./dirty_mnist/' + v, './dirty_mnist_val')"
   ]
  },
  {
   "cell_type": "code",
   "execution_count": 52,
   "metadata": {},
   "outputs": [],
   "source": [
    "def csv_to_coco(df, json_name):\n",
    "    dic = {\n",
    "        \"info\": {\n",
    "            \"description\": \"DACON DIRTY MNIST DATASET\",\n",
    "            \"url\": \"https://oranz.tistory.com/\",\n",
    "            \"version\": \"1.0\",\n",
    "            \"year\": 2021,\n",
    "            \"contributor\": \"DACON\",\n",
    "            \"date_created\": \"2021/02/18\"\n",
    "        },\n",
    "        \"licenses\": [{\n",
    "            \"url\": \"http://creativecommons.org/licenses/by-nc-sa/2.0/\",\n",
    "            \"id\": 1,\n",
    "            \"name\": \"Attribution-NonCommercial-ShareAlike License\"\n",
    "        }],\n",
    "        \"images\": [],\n",
    "        \"annotations\": [],\n",
    "        \"categories\": []\n",
    "    }\n",
    "    \n",
    "    for i in range(1, 27):\n",
    "        dic[\"categories\"].append({\"supercategory\": \"alphabet\", \"id\": i, \"name\": chr(i + 96)})\n",
    "        \n",
    "    anno_id = 1\n",
    "    for r in range(len(df)):\n",
    "        image_id = int(df.iloc[r, 0]) # cast to int for JSON serialization\n",
    "        name = str(image_id)\n",
    "        name = '0' * (5 - len(name)) + name + '.png'\n",
    "        dic[\"images\"].append({\n",
    "            \"license\": 1,\n",
    "            \"file_name\": name,\n",
    "            \"coco_url\": \"\",\n",
    "            \"height\": 256,\n",
    "            \"width\": 256,\n",
    "            \"date_captured\": \"2020-05-19 23:03:57\",\n",
    "            \"flickr_url\": \"\",\n",
    "            \"id\": image_id\n",
    "        })\n",
    "        \n",
    "        for c in range(1, 27):\n",
    "            if df.iloc[r, c] == 1:\n",
    "                dic[\"annotations\"].append({\n",
    "                    \"segmentation\": [],\n",
    "                    \"area\": 232,\n",
    "                    \"iscrowd\": 0,\n",
    "                    \"image_id\": image_id,\n",
    "                    \"bbox\": [1, 5, 4, 9],\n",
    "                    \"category_id\": c,\n",
    "                    \"id\": anno_id\n",
    "                })\n",
    "                anno_id += 1\n",
    "    with open(json_name, \"w\") as json_file:\n",
    "        json.dump(dic, json_file)"
   ]
  },
  {
   "cell_type": "code",
   "execution_count": 53,
   "metadata": {},
   "outputs": [],
   "source": [
    "csv_to_coco(val_ans, \"val.json\")\n",
    "csv_to_coco(train_ans, \"train.json\")"
   ]
  },
  {
   "cell_type": "code",
   "execution_count": null,
   "metadata": {},
   "outputs": [],
   "source": []
  }
 ],
 "metadata": {
  "kernelspec": {
   "display_name": "Python 3",
   "language": "python",
   "name": "python3"
  },
  "language_info": {
   "codemirror_mode": {
    "name": "ipython",
    "version": 3
   },
   "file_extension": ".py",
   "mimetype": "text/x-python",
   "name": "python",
   "nbconvert_exporter": "python",
   "pygments_lexer": "ipython3",
   "version": "3.7.6"
  }
 },
 "nbformat": 4,
 "nbformat_minor": 4
}
